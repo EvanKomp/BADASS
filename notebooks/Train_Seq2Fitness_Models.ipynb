{
 "cells": [
  {
   "cell_type": "markdown",
   "id": "a392cb73-7fbb-465b-84b3-9437073b4831",
   "metadata": {},
   "source": [
    "# Train Seq2Fitness models for Alpha Amylase"
   ]
  },
  {
   "cell_type": "markdown",
   "id": "d4d452f3-38ce-430a-bf97-8fc1c0a7cc5a",
   "metadata": {},
   "source": [
    "This notebook shows how to train Seq2fitness models with a protein fitness dataset. Here we use alpha-amylase. "
   ]
  },
  {
   "cell_type": "code",
   "execution_count": 5,
   "id": "4bcd8018-67bd-4e7a-bbe4-de0ec1ed6307",
   "metadata": {},
   "outputs": [],
   "source": [
    "# %run setup_environment.py\n",
    "import badass.models.seq2fitness_models as models\n",
    "import badass.data.datasets as datasets\n",
    "import badass.training.seq2fitness_traintools as traintools\n",
    "import badass.training.seq2fitness_train as train\n",
    "import badass.utils.sequence_utils as sequence_utils\n",
    "import torch.nn as nn\n",
    "import time\n",
    "\n",
    "import torch"
   ]
  },
  {
   "cell_type": "code",
   "execution_count": 6,
   "id": "6c72e812-f770-409c-9e7f-7fc56221dabe",
   "metadata": {},
   "outputs": [],
   "source": [
    "# Reference sequence\n",
    "ref_seq_amylase = \"\"\"LTAPSIKSGTILHAWNWSFNTLKHNMKDIHDAGYTAIQTSPINQVKEGNQGDKSMSNWYWLYQPTSYQIGNRYLGTEQEFKEMCAAAEEYGIKVIVDAVINHTTSDYAAIS\n",
    "NEVKSIPNWTHGNTPIKNWSDRWDVTQNSLSGLYDWNTQNTQVQSYLKRFLDRALNDGADGFRFDAAKHIELPDDGSYGSQFWPNITNTSAEFQYGEILQDSVSRDAAYANY\n",
    "MDVTASNYGHSIRSALKNRNLGVSNISHYAVDVSADKLVTWVESHDTYANDDEESTWMSDDDIRLGWAVIASRSGSTPLFFSRPEGGGNGVRFPGKSQIGDRGSALFEDQAI\n",
    "TAVNRFHNVMAGQPEELSNPNGNNQIFMNQRGSHGVVLANAGSSSVSINTATKLPDGRYDNKAGAGSFQVNDGKLTGTINARSVAVLYPD\"\"\".replace('\\n','')"
   ]
  },
  {
   "cell_type": "code",
   "execution_count": 7,
   "id": "cba1e25f-baf9-48a3-99ad-190c291f7ce0",
   "metadata": {},
   "outputs": [
    {
     "name": "stdout",
     "output_type": "stream",
     "text": [
      "{'fitness_dp3_activity': {'loss': MSELoss(), 'weight': 2.0}, 'fitness_stain_removal': {'loss': MSELoss(), 'weight': 1.0}}\n"
     ]
    }
   ],
   "source": [
    "# Criteria are labels corresponding to columns in the spreadsheet containing the dataset\n",
    "# Multi-task training is supported\n",
    "# We use task weights to correspond to the relative sizes of the number of samples per task.\n",
    "\n",
    "criteria = {\n",
    "    'fitness_dp3_activity': {'loss': torch.nn.MSELoss(), 'weight': 2.0}, # only single mutants from NNK. Used weight of 2.0 first\n",
    "    'fitness_stain_removal': {'loss': torch.nn.MSELoss(), 'weight': 1.0} # 1-8 mutations\n",
    "}\n",
    "print(criteria)\n"
   ]
  },
  {
   "cell_type": "code",
   "execution_count": 10,
   "id": "02fc8ccd-b3c7-4bc3-8079-91128a2c2191",
   "metadata": {},
   "outputs": [],
   "source": [
    "# Load precomputed ESM2 3B Scores\n",
    "# You can compute ESM2-3B scores with the notebook (Compute ESM2-3B Scores.ipynb)\n",
    "static_score_path = \"../data/aAmyl_esm2_3B_scores.xlsx\" # Precomputed scores\n",
    "amylase_ESM23B_scores = models.initialize_static_esm_scores(static_score_path, verbose=False)"
   ]
  },
  {
   "cell_type": "code",
   "execution_count": 11,
   "id": "4f20ed47-47f9-484d-affe-3fedeb1eae32",
   "metadata": {},
   "outputs": [],
   "source": [
    "# Define model hyperparameters\n",
    "# These are default hyperparameters used throughout the paper\n",
    "model_params = {\n",
    "    'task_criteria': criteria,\n",
    "    'k1': 32, # Filter of 1st conv.\n",
    "    'k2': 32, # Filter of 2nd. conv.\n",
    "    'dropout': 0.20,\n",
    "    'quantiles': [0.01, 0.025, 0.125, 0.25, 0.375, 0.5, 0.625, 0.75, 0.875, 0.975, 0.99], # quantiles used to process embeddings\n",
    "    'task_stats': {},\n",
    "    'm1': 27, \n",
    "    'm2': 15, \n",
    "    'esm_scores_dim': 3, # total number of scores: mutant, wildtype, and from 3B model currently\n",
    "    'ref_seq': ref_seq_amylase,\n",
    "    'static_logit': amylase_ESM23B_scores,\n",
    "    'esm_modelname': 'esm2_t33_650M_UR50D',\n",
    "    'use_rel_embeddings': True,\n",
    "    'use_rel_prob_matrices': False\n",
    "}"
   ]
  },
  {
   "cell_type": "code",
   "execution_count": 12,
   "id": "35248ce5-7100-4b02-a9c9-a80a99360314",
   "metadata": {},
   "outputs": [],
   "source": [
    "# Define training parameters\n",
    "training_params = {\n",
    "    'dataset_path': '../data/AlphaAmylase_both_merged.csv',\n",
    "    'batch_size': 800, \n",
    "    'epochs': 80, \n",
    "    'seed': 19,\n",
    "    'dropout': 0.2,\n",
    "    'lr': 1e-2,  \n",
    "    'split_ratio': 0.8,\n",
    "    'save_path': \"../trained_models\",\n",
    "    'model_filename': f\"Seq2Fitness_AAmylsase_\",\n",
    "    'weight_decay': 1.2e-3,\n",
    "    'file_name': \"Seq2Fitness_AAmylsase_\" # for storing plots\n",
    "}"
   ]
  },
  {
   "cell_type": "code",
   "execution_count": null,
   "id": "b45d71fb-b73e-472f-a051-9a9828374e67",
   "metadata": {},
   "outputs": [
    {
     "name": "stdout",
     "output_type": "stream",
     "text": [
      "Creating model of class ProteinFunctionPredictor_with_probmatrix.\n",
      "Total number of trainable parameters in the model: 125470\n",
      "Number of trainable parameters in the model excluding ESM: 125470\n",
      "Found 1 wildtype sequences in dataset.\n"
     ]
    },
    {
     "name": "stderr",
     "output_type": "stream",
     "text": [
      "/kfs2/projects/proteinml/repos/BADASS/badass/training/seq2fitness_train.py:56: FutureWarning: A value is trying to be set on a copy of a DataFrame or Series through chained assignment using an inplace method.\n",
      "The behavior will change in pandas 3.0. This inplace method will never work because the intermediate object on which we are setting values always behaves as a copy.\n",
      "\n",
      "For example, when doing 'df[col].method(value, inplace=True)', try using 'df.method({col: value}, inplace=True)' or df[col] = df[col].method(value) instead, to perform the operation inplace on the original object.\n",
      "\n",
      "\n",
      "  dataframe['sequence'].replace(np.nan, \"NA\", inplace=True) # Make wt NA for now.\n"
     ]
    },
    {
     "name": "stdout",
     "output_type": "stream",
     "text": [
      "train has 8578 unique sequences out of 10722.\n",
      "After splitting, trainset has 8578 sequences, and test has 2144.\n"
     ]
    },
    {
     "name": "stderr",
     "output_type": "stream",
     "text": [
      "/kfs2/projects/proteinml/repos/BADASS/badass/training/seq2fitness_train.py:59: FutureWarning: A value is trying to be set on a copy of a DataFrame or Series through chained assignment using an inplace method.\n",
      "The behavior will change in pandas 3.0. This inplace method will never work because the intermediate object on which we are setting values always behaves as a copy.\n",
      "\n",
      "For example, when doing 'df[col].method(value, inplace=True)', try using 'df.method({col: value}, inplace=True)' or df[col] = df[col].method(value) instead, to perform the operation inplace on the original object.\n",
      "\n",
      "\n",
      "  dataframe['sequence'].replace(\"NA\", \"\", inplace=True) # Now make WT empty string\n"
     ]
    },
    {
     "name": "stdout",
     "output_type": "stream",
     "text": [
      "Number of data points with all NaNs after normalization: 0\n",
      "Number of data points with all NaNs after normalization: 0\n",
      "Task stats used for normalization are : {'task_means': {'fitness_dp3_activity': 0.743588245116046, 'fitness_stain_removal': 0.054606376970788045}, 'task_stds': {'fitness_dp3_activity': 0.6666848597149097, 'fitness_stain_removal': 0.05645892648933254}}.\n",
      "We'll train for 80 epochs.\n",
      "We'll use 2 GPUs through DataParallel.\n",
      "Will save models to ../trained_models\n",
      "Spearman correlation for fitness_dp3_activity: -0.3779\n",
      "Spearman correlation for fitness_stain_removal: 0.5884\n",
      "Updated model checkpoint - val_loss: 0.05579641353002818, epoch: 1\n",
      "Epoch 1: train_Loss=2.2709, val_loss=0.7443, corr=-0.0558, l_rate=1.0e-02\n",
      "Spearman correlation for fitness_dp3_activity: 0.2669\n",
      "Spearman correlation for fitness_stain_removal: 0.5439\n",
      "Updated model checkpoint - val_loss: -0.3592427250719978, epoch: 2\n",
      "Epoch 2: train_Loss=1.1440, val_loss=0.7574, corr=0.3592, l_rate=1.0e-02\n",
      "Spearman correlation for fitness_dp3_activity: -0.2911\n",
      "Spearman correlation for fitness_stain_removal: 0.5645\n",
      "Updated model checkpoint - val_loss: 0.005938011907975271, epoch: 3\n",
      "Epoch 3: train_Loss=1.0287, val_loss=0.7096, corr=-0.0059, l_rate=1.0e-02\n",
      "Spearman correlation for fitness_dp3_activity: -0.2892\n",
      "Spearman correlation for fitness_stain_removal: 0.6104\n",
      "Updated model checkpoint - val_loss: -0.01070064349304197, epoch: 4\n",
      "Epoch 4: train_Loss=0.9622, val_loss=0.6895, corr=0.0107, l_rate=9.9e-03\n",
      "Spearman correlation for fitness_dp3_activity: 0.3179\n",
      "Spearman correlation for fitness_stain_removal: 0.6141\n",
      "Updated model checkpoint - val_loss: -0.4165972106335087, epoch: 5\n",
      "Epoch 5: train_Loss=0.9290, val_loss=0.6684, corr=0.4166, l_rate=9.9e-03\n",
      "Spearman correlation for fitness_dp3_activity: 0.3208\n",
      "Spearman correlation for fitness_stain_removal: 0.6268\n",
      "Updated model checkpoint - val_loss: -0.4228027075564363, epoch: 6\n",
      "Epoch 6: train_Loss=0.9041, val_loss=0.6409, corr=0.4228, l_rate=9.9e-03\n",
      "Spearman correlation for fitness_dp3_activity: 0.3423\n",
      "Spearman correlation for fitness_stain_removal: 0.6411\n",
      "Updated model checkpoint - val_loss: -0.44191306512213274, epoch: 7\n",
      "Epoch 7: train_Loss=0.8844, val_loss=0.6373, corr=0.4419, l_rate=9.8e-03\n",
      "Spearman correlation for fitness_dp3_activity: 0.3641\n",
      "Spearman correlation for fitness_stain_removal: 0.6581\n",
      "Updated model checkpoint - val_loss: -0.46210270096505407, epoch: 8\n",
      "Epoch 8: train_Loss=0.8652, val_loss=0.6038, corr=0.4621, l_rate=9.8e-03\n",
      "Spearman correlation for fitness_dp3_activity: 0.3846\n",
      "Spearman correlation for fitness_stain_removal: 0.6710\n",
      "Updated model checkpoint - val_loss: -0.4800577283794916, epoch: 9\n",
      "Epoch 9: train_Loss=0.8589, val_loss=0.6067, corr=0.4801, l_rate=9.7e-03\n",
      "Spearman correlation for fitness_dp3_activity: 0.4110\n",
      "Spearman correlation for fitness_stain_removal: 0.6818\n",
      "Updated model checkpoint - val_loss: -0.5012889900105991, epoch: 10\n",
      "Epoch 10: train_Loss=0.8428, val_loss=0.5678, corr=0.5013, l_rate=9.6e-03\n",
      "Spearman correlation for fitness_dp3_activity: 0.4250\n",
      "Spearman correlation for fitness_stain_removal: 0.6904\n",
      "Updated model checkpoint - val_loss: -0.5134600375483421, epoch: 11\n",
      "Epoch 11: train_Loss=0.8302, val_loss=0.5650, corr=0.5135, l_rate=9.5e-03\n",
      "Spearman correlation for fitness_dp3_activity: 0.4439\n",
      "Spearman correlation for fitness_stain_removal: 0.6985\n",
      "Updated model checkpoint - val_loss: -0.5287532940767664, epoch: 12\n",
      "Epoch 12: train_Loss=0.8019, val_loss=0.5509, corr=0.5288, l_rate=9.5e-03\n",
      "Spearman correlation for fitness_dp3_activity: 0.4594\n",
      "Spearman correlation for fitness_stain_removal: 0.7074\n",
      "Updated model checkpoint - val_loss: -0.5420592182777054, epoch: 13\n",
      "Epoch 13: train_Loss=0.7978, val_loss=0.5430, corr=0.5421, l_rate=9.4e-03\n",
      "Spearman correlation for fitness_dp3_activity: 0.4649\n",
      "Spearman correlation for fitness_stain_removal: 0.7101\n",
      "Updated model checkpoint - val_loss: -0.5466125003681866, epoch: 14\n",
      "Epoch 14: train_Loss=0.7787, val_loss=0.5261, corr=0.5466, l_rate=9.3e-03\n",
      "Spearman correlation for fitness_dp3_activity: 0.4837\n",
      "Spearman correlation for fitness_stain_removal: 0.7180\n",
      "Updated model checkpoint - val_loss: -0.5617734147560083, epoch: 15\n",
      "Epoch 15: train_Loss=0.7642, val_loss=0.5221, corr=0.5618, l_rate=9.2e-03\n",
      "Spearman correlation for fitness_dp3_activity: 0.4863\n",
      "Spearman correlation for fitness_stain_removal: 0.7223\n",
      "Updated model checkpoint - val_loss: -0.5649620149046428, epoch: 16\n",
      "Epoch 16: train_Loss=0.7725, val_loss=0.5384, corr=0.5650, l_rate=9.0e-03\n",
      "Spearman correlation for fitness_dp3_activity: 0.4888\n",
      "Spearman correlation for fitness_stain_removal: 0.7231\n",
      "Updated model checkpoint - val_loss: -0.566884281548745, epoch: 17\n",
      "Epoch 17: train_Loss=0.7802, val_loss=0.5091, corr=0.5669, l_rate=8.9e-03\n",
      "Spearman correlation for fitness_dp3_activity: 0.4930\n",
      "Spearman correlation for fitness_stain_removal: 0.7276\n",
      "Updated model checkpoint - val_loss: -0.5711704828575338, epoch: 18\n",
      "Epoch 18: train_Loss=0.7644, val_loss=0.5148, corr=0.5712, l_rate=8.8e-03\n",
      "Spearman correlation for fitness_dp3_activity: 0.4929\n",
      "Spearman correlation for fitness_stain_removal: 0.7283\n",
      "Updated model checkpoint - val_loss: -0.5713322188734165, epoch: 19\n",
      "Epoch 19: train_Loss=0.7426, val_loss=0.5078, corr=0.5713, l_rate=8.7e-03\n",
      "Spearman correlation for fitness_dp3_activity: 0.4983\n",
      "Spearman correlation for fitness_stain_removal: 0.7272\n",
      "Updated model checkpoint - val_loss: -0.5745976719484577, epoch: 20\n",
      "Epoch 20: train_Loss=0.7343, val_loss=0.5077, corr=0.5746, l_rate=8.5e-03\n",
      "Spearman correlation for fitness_dp3_activity: 0.5038\n",
      "Spearman correlation for fitness_stain_removal: 0.7302\n",
      "Updated model checkpoint - val_loss: -0.5792550713747359, epoch: 21\n",
      "Epoch 21: train_Loss=0.7210, val_loss=0.4821, corr=0.5793, l_rate=8.4e-03\n",
      "Spearman correlation for fitness_dp3_activity: 0.5083\n",
      "Spearman correlation for fitness_stain_removal: 0.7298\n",
      "Updated model checkpoint - val_loss: -0.5821300774741761, epoch: 22\n",
      "Epoch 22: train_Loss=0.7091, val_loss=0.4844, corr=0.5821, l_rate=8.2e-03\n",
      "Spearman correlation for fitness_dp3_activity: 0.5147\n",
      "Spearman correlation for fitness_stain_removal: 0.7299\n",
      "Updated model checkpoint - val_loss: -0.5864430318653047, epoch: 23\n",
      "Epoch 23: train_Loss=0.7062, val_loss=0.4835, corr=0.5864, l_rate=8.1e-03\n",
      "Spearman correlation for fitness_dp3_activity: 0.5188\n",
      "Spearman correlation for fitness_stain_removal: 0.7299\n",
      "Updated model checkpoint - val_loss: -0.5891889298342848, epoch: 24\n",
      "Epoch 24: train_Loss=0.7083, val_loss=0.4988, corr=0.5892, l_rate=7.9e-03\n",
      "Spearman correlation for fitness_dp3_activity: 0.5157\n",
      "Spearman correlation for fitness_stain_removal: 0.7278\n",
      "Updated model checkpoint - val_loss: -0.5863836117826404, epoch: 25\n",
      "Epoch 25: train_Loss=0.7019, val_loss=0.4868, corr=0.5864, l_rate=7.8e-03\n",
      "Spearman correlation for fitness_dp3_activity: 0.5229\n",
      "Spearman correlation for fitness_stain_removal: 0.7332\n",
      "Updated model checkpoint - val_loss: -0.5929897959053053, epoch: 26\n",
      "Epoch 26: train_Loss=0.6946, val_loss=0.4786, corr=0.5930, l_rate=7.6e-03\n",
      "Spearman correlation for fitness_dp3_activity: 0.5187\n",
      "Spearman correlation for fitness_stain_removal: 0.7333\n",
      "Updated model checkpoint - val_loss: -0.590239975250152, epoch: 27\n",
      "Epoch 27: train_Loss=0.6947, val_loss=0.4832, corr=0.5902, l_rate=7.4e-03\n",
      "Spearman correlation for fitness_dp3_activity: 0.5260\n",
      "Spearman correlation for fitness_stain_removal: 0.7353\n",
      "Updated model checkpoint - val_loss: -0.5957618005279434, epoch: 28\n",
      "Epoch 28: train_Loss=0.6833, val_loss=0.4663, corr=0.5958, l_rate=7.3e-03\n",
      "Spearman correlation for fitness_dp3_activity: 0.5286\n",
      "Spearman correlation for fitness_stain_removal: 0.7334\n",
      "Updated model checkpoint - val_loss: -0.5968472436679922, epoch: 29\n",
      "Epoch 29: train_Loss=0.6843, val_loss=0.4662, corr=0.5968, l_rate=7.1e-03\n",
      "Spearman correlation for fitness_dp3_activity: 0.5292\n",
      "Spearman correlation for fitness_stain_removal: 0.7294\n",
      "Updated model checkpoint - val_loss: -0.5959034924070176, epoch: 30\n",
      "Epoch 30: train_Loss=0.6769, val_loss=0.4761, corr=0.5959, l_rate=6.9e-03\n",
      "Spearman correlation for fitness_dp3_activity: 0.5327\n",
      "Spearman correlation for fitness_stain_removal: 0.7355\n",
      "Updated model checkpoint - val_loss: -0.6002801842786855, epoch: 31\n",
      "Epoch 31: train_Loss=0.6637, val_loss=0.4679, corr=0.6003, l_rate=6.7e-03\n",
      "Spearman correlation for fitness_dp3_activity: 0.5326\n",
      "Spearman correlation for fitness_stain_removal: 0.7339\n",
      "Updated model checkpoint - val_loss: -0.5996696958157134, epoch: 32\n",
      "Epoch 32: train_Loss=0.6586, val_loss=0.4781, corr=0.5997, l_rate=6.5e-03\n",
      "Spearman correlation for fitness_dp3_activity: 0.5300\n",
      "Spearman correlation for fitness_stain_removal: 0.7341\n",
      "Updated model checkpoint - val_loss: -0.5980064949965084, epoch: 33\n",
      "Epoch 33: train_Loss=0.6561, val_loss=0.4687, corr=0.5980, l_rate=6.4e-03\n",
      "Spearman correlation for fitness_dp3_activity: 0.5333\n",
      "Spearman correlation for fitness_stain_removal: 0.7353\n",
      "Updated model checkpoint - val_loss: -0.600655747418449, epoch: 34\n",
      "Epoch 34: train_Loss=0.6585, val_loss=0.4687, corr=0.6007, l_rate=6.2e-03\n",
      "Spearman correlation for fitness_dp3_activity: 0.5370\n",
      "Spearman correlation for fitness_stain_removal: 0.7278\n",
      "Updated model checkpoint - val_loss: -0.6005994108683975, epoch: 35\n",
      "Epoch 35: train_Loss=0.6541, val_loss=0.4740, corr=0.6006, l_rate=6.0e-03\n",
      "Spearman correlation for fitness_dp3_activity: 0.5385\n",
      "Spearman correlation for fitness_stain_removal: 0.7345\n",
      "Updated model checkpoint - val_loss: -0.6038604150102671, epoch: 36\n",
      "Epoch 36: train_Loss=0.6463, val_loss=0.4656, corr=0.6039, l_rate=5.8e-03\n"
     ]
    }
   ],
   "source": [
    "start_time = time.time()\n",
    "trainer = train.main(model_params, training_params, model_class=\"ProteinFunctionPredictor_with_probmatrix\")\n",
    "end_time = time.time()\n",
    "elapsed_time = end_time - start_time\n",
    "print(f\"Elapsed time: {elapsed_time:.2f} seconds\")"
   ]
  },
  {
   "cell_type": "code",
   "execution_count": null,
   "id": "db4ad6f8",
   "metadata": {},
   "outputs": [],
   "source": []
  }
 ],
 "metadata": {
  "kernelspec": {
   "display_name": "badass",
   "language": "python",
   "name": "python3"
  },
  "language_info": {
   "codemirror_mode": {
    "name": "ipython",
    "version": 3
   },
   "file_extension": ".py",
   "mimetype": "text/x-python",
   "name": "python",
   "nbconvert_exporter": "python",
   "pygments_lexer": "ipython3",
   "version": "3.9.21"
  }
 },
 "nbformat": 4,
 "nbformat_minor": 5
}
