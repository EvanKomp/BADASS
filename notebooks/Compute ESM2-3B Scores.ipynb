{
 "cells": [
  {
   "cell_type": "markdown",
   "id": "8951b11f-ab31-403a-bbec-13028c4f0d76",
   "metadata": {},
   "source": [
    "# Compute ESM2-3B Scores for NucB"
   ]
  },
  {
   "cell_type": "markdown",
   "id": "d36ef125-9730-4d11-892d-c90152527717",
   "metadata": {},
   "source": [
    "#### Prepare environment and import modules"
   ]
  },
  {
   "cell_type": "code",
   "execution_count": 6,
   "id": "fc738c40-e6b1-4417-b0e9-f20a861e0370",
   "metadata": {},
   "outputs": [
    {
     "name": "stdout",
     "output_type": "stream",
     "text": [
      "Paths added to sys.path:\n",
      "/home/ubuntu/DEML-Virginia/NucB-training/DEML/src/data\n",
      "/home/ubuntu/DEML-Virginia/NucB-training/DEML/src/representation\n",
      "/home/ubuntu/DEML-Virginia/NucB-training/DEML/src/representation/prep\n",
      "/home/ubuntu/DEML-Virginia/NucB-training/DEML/src/utils\n",
      "/home/ubuntu/DEML-Virginia/NucB-training/DEML/src/end_to_end_models\n",
      "/home/ubuntu/DEML-Virginia/NucB-training/DEML/src/training\n",
      "/home/ubuntu/DEML-Virginia/NucB-training/DEML/src/mld\n",
      "/home/ubuntu/DEML-Virginia/NucB-training/DEML/src/mld/libdesign\n",
      "/home/ubuntu/DEML-Virginia/NucB-training/DEML/src/inference\n",
      "/home/ubuntu/DEML-Virginia/NucB-training/DEML/src/models\n",
      "/home/ubuntu/DEML-Virginia/NucB-training/DEML/EvoProtGrad/evo_prot_grad\n",
      "/home/ubuntu/DEML-Virginia/NucB-training/DEML/EvoProtGrad/evo_prot_grad/experts\n"
     ]
    }
   ],
   "source": [
    "# Load packages\n",
    "%run setup_environment.py\n",
    "import seq2fitness_models as models\n",
    "import datasets\n",
    "import seq2fitness_traintools as traintools\n",
    "import seq2fitness_train as train\n",
    "import sequence_utils\n",
    "import torch.nn as nn\n",
    "from pprint import pprint\n",
    "\n",
    "import torch\n",
    "import esm"
   ]
  },
  {
   "cell_type": "markdown",
   "id": "60aea1e5-58e7-427c-8144-b0f7c2310685",
   "metadata": {},
   "source": [
    "#### Get ESM2-3B masked marginal scores"
   ]
  },
  {
   "cell_type": "code",
   "execution_count": 7,
   "id": "e7429b73-272e-41a7-91b2-2c8a9455dc1b",
   "metadata": {},
   "outputs": [],
   "source": [
    "seq = \"\"\"MIKKWAVHLLFSALVLLGLSGGAAYSPQHAEGAARYDDVLYFPASRYPETGAHISDAIKAGHADVCTIERSGADKRRQES\n",
    "LKGIPTKPGFDRDEWPMAMCEEGGKGASVRYVSSSDNRGAGSWVGNRLNGYADGTRILFIVQ\"\"\".replace('\\n','')"
   ]
  },
  {
   "cell_type": "code",
   "execution_count": 30,
   "id": "04d44c2e-ecb0-419f-b9bf-b015f65c1833",
   "metadata": {},
   "outputs": [],
   "source": [
    "# Prepare CSV of mutants\n",
    "AMINOS = \"ACDEFGHIKLMNPQRSTVWY\"\n",
    "mutants = []\n",
    "for i,aa in enumerate(seq):\n",
    "    for amino in AMINOS:\n",
    "        mutant = f\"{aa}{i+1}{amino}\"\n",
    "        mutants.append(mutant)\n",
    "positions = [int(mut[1:-1]) for mut in mutants]\n",
    "df = pd.DataFrame({'mutant': mutants, 'position': positions})\n",
    "df.to_csv('esm2_scores.csv')\n"
   ]
  },
  {
   "cell_type": "code",
   "execution_count": 18,
   "id": "e3fce42e-a97c-4c0a-80af-72b3d999c6ef",
   "metadata": {},
   "outputs": [
    {
     "name": "stdout",
     "output_type": "stream",
     "text": [
      "Cloning into 'esm'...\n",
      "remote: Enumerating objects: 1511, done.\u001b[K\n",
      "remote: Counting objects: 100% (725/725), done.\u001b[K\n",
      "remote: Compressing objects: 100% (194/194), done.\u001b[K\n",
      "remote: Total 1511 (delta 567), reused 531 (delta 531), pack-reused 786 (from 1)\u001b[K\n",
      "Receiving objects: 100% (1511/1511), 12.87 MiB | 15.61 MiB/s, done.\n",
      "Resolving deltas: 100% (952/952), done.\n",
      "Updating files: 100% (476/476), done.\n"
     ]
    }
   ],
   "source": [
    "!git clone https://github.com/facebookresearch/esm.git"
   ]
  },
  {
   "cell_type": "code",
   "execution_count": 26,
   "id": "c461f291-28d5-4d24-bb6a-208e10b3f48d",
   "metadata": {},
   "outputs": [
    {
     "name": "stdout",
     "output_type": "stream",
     "text": [
      "/home/ubuntu/DEML-Virginia/NucB-training/DEML/projects/NucB/esm/examples/variant-prediction\n"
     ]
    }
   ],
   "source": [
    "cd esm/examples/variant-prediction"
   ]
  },
  {
   "cell_type": "code",
   "execution_count": 31,
   "id": "be7f7802-3576-4866-9a13-5c1a1da83397",
   "metadata": {},
   "outputs": [
    {
     "name": "stdout",
     "output_type": "stream",
     "text": [
      "Transferred model to GPU\n",
      "100%|█████████████████████████████████████████| 144/144 [00:10<00:00, 13.62it/s]\n"
     ]
    }
   ],
   "source": [
    "!python predict.py \\\n",
    "    --model-location esm2_t36_3B_UR50D \\\n",
    "    --sequence \"MIKKWAVHLLFSALVLLGLSGGAAYSPQHAEGAARYDDVLYFPASRYPETGAHISDAIKAGHADVCTIERSGADKRRQESLKGIPTKPGFDRDEWPMAMCEEGGKGASVRYVSSSDNRGAGSWVGNRLNGYADGTRILFIVQ\"\\\n",
    "    --dms-input ../../../esm2_scores.csv \\\n",
    "    --mutation-col mutant \\\n",
    "    --dms-output ../../../esm2_scores.csv \\\n",
    "    --offset-idx 1 \\\n",
    "    --scoring-strategy masked-marginals"
   ]
  },
  {
   "cell_type": "code",
   "execution_count": null,
   "id": "66ddac59-1458-413b-b840-4bf1a84886f6",
   "metadata": {},
   "outputs": [],
   "source": [
    "cd ../../.."
   ]
  },
  {
   "cell_type": "code",
   "execution_count": 37,
   "id": "ced64ccc-9ecf-47ae-9fdc-d90acd343fa7",
   "metadata": {},
   "outputs": [
    {
     "data": {
      "text/html": [
       "<div>\n",
       "<style scoped>\n",
       "    .dataframe tbody tr th:only-of-type {\n",
       "        vertical-align: middle;\n",
       "    }\n",
       "\n",
       "    .dataframe tbody tr th {\n",
       "        vertical-align: top;\n",
       "    }\n",
       "\n",
       "    .dataframe thead th {\n",
       "        text-align: right;\n",
       "    }\n",
       "</style>\n",
       "<table border=\"1\" class=\"dataframe\">\n",
       "  <thead>\n",
       "    <tr style=\"text-align: right;\">\n",
       "      <th></th>\n",
       "      <th>mutant</th>\n",
       "      <th>position</th>\n",
       "      <th>esm2_t36_3B_UR50D</th>\n",
       "    </tr>\n",
       "  </thead>\n",
       "  <tbody>\n",
       "    <tr>\n",
       "      <th>0</th>\n",
       "      <td>M1A</td>\n",
       "      <td>1</td>\n",
       "      <td>-10.406944</td>\n",
       "    </tr>\n",
       "    <tr>\n",
       "      <th>1</th>\n",
       "      <td>M1C</td>\n",
       "      <td>1</td>\n",
       "      <td>-12.032123</td>\n",
       "    </tr>\n",
       "    <tr>\n",
       "      <th>2</th>\n",
       "      <td>M1D</td>\n",
       "      <td>1</td>\n",
       "      <td>-11.411701</td>\n",
       "    </tr>\n",
       "    <tr>\n",
       "      <th>3</th>\n",
       "      <td>M1E</td>\n",
       "      <td>1</td>\n",
       "      <td>-11.455269</td>\n",
       "    </tr>\n",
       "    <tr>\n",
       "      <th>4</th>\n",
       "      <td>M1F</td>\n",
       "      <td>1</td>\n",
       "      <td>-11.333991</td>\n",
       "    </tr>\n",
       "    <tr>\n",
       "      <th>...</th>\n",
       "      <td>...</td>\n",
       "      <td>...</td>\n",
       "      <td>...</td>\n",
       "    </tr>\n",
       "    <tr>\n",
       "      <th>2835</th>\n",
       "      <td>Q142S</td>\n",
       "      <td>142</td>\n",
       "      <td>-0.931034</td>\n",
       "    </tr>\n",
       "    <tr>\n",
       "      <th>2836</th>\n",
       "      <td>Q142T</td>\n",
       "      <td>142</td>\n",
       "      <td>-1.907223</td>\n",
       "    </tr>\n",
       "    <tr>\n",
       "      <th>2837</th>\n",
       "      <td>Q142V</td>\n",
       "      <td>142</td>\n",
       "      <td>-2.645308</td>\n",
       "    </tr>\n",
       "    <tr>\n",
       "      <th>2838</th>\n",
       "      <td>Q142W</td>\n",
       "      <td>142</td>\n",
       "      <td>-2.890419</td>\n",
       "    </tr>\n",
       "    <tr>\n",
       "      <th>2839</th>\n",
       "      <td>Q142Y</td>\n",
       "      <td>142</td>\n",
       "      <td>-1.357465</td>\n",
       "    </tr>\n",
       "  </tbody>\n",
       "</table>\n",
       "<p>2840 rows × 3 columns</p>\n",
       "</div>"
      ],
      "text/plain": [
       "     mutant  position  esm2_t36_3B_UR50D\n",
       "0       M1A         1         -10.406944\n",
       "1       M1C         1         -12.032123\n",
       "2       M1D         1         -11.411701\n",
       "3       M1E         1         -11.455269\n",
       "4       M1F         1         -11.333991\n",
       "...     ...       ...                ...\n",
       "2835  Q142S       142          -0.931034\n",
       "2836  Q142T       142          -1.907223\n",
       "2837  Q142V       142          -2.645308\n",
       "2838  Q142W       142          -2.890419\n",
       "2839  Q142Y       142          -1.357465\n",
       "\n",
       "[2840 rows x 3 columns]"
      ]
     },
     "execution_count": 37,
     "metadata": {},
     "output_type": "execute_result"
    }
   ],
   "source": [
    "# Convert scores from 1D to 2D\n",
    "df = pd.read_csv('esm2_scores.csv', index_col=0)\n",
    "loc = df.columns[0] \n",
    "del df[loc] # Delete added index column\n",
    "df"
   ]
  },
  {
   "cell_type": "code",
   "execution_count": 51,
   "id": "96dba73e-0cfe-4463-940d-fa98ac9bc7be",
   "metadata": {},
   "outputs": [],
   "source": [
    "# Scores as 2D dataframe\n",
    "scores = {}\n",
    "for i in set(df['position']):\n",
    "    dfsel = df[df['position']==i]\n",
    "    scores[i] = dfsel.iloc[:,-1].values\n",
    "df = pd.DataFrame(scores).transpose()\n",
    "df.columns = list(AMINOS)\n",
    "df.insert(0, 'WT', list(seq))\n",
    "\n",
    "# Save\n",
    "df.to_excel('../data/NucB_esm2_3B_scores.xlsx', sheet_name='matrix')\n",
    "df"
   ]
  }
 ],
 "metadata": {
  "kernelspec": {
   "display_name": "Python 3 (ipykernel)",
   "language": "python",
   "name": "python3"
  },
  "language_info": {
   "codemirror_mode": {
    "name": "ipython",
    "version": 3
   },
   "file_extension": ".py",
   "mimetype": "text/x-python",
   "name": "python",
   "nbconvert_exporter": "python",
   "pygments_lexer": "ipython3",
   "version": "3.10.13"
  }
 },
 "nbformat": 4,
 "nbformat_minor": 5
}
