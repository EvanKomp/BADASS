{
 "cells": [
  {
   "cell_type": "markdown",
   "id": "a392cb73-7fbb-465b-84b3-9437073b4831",
   "metadata": {},
   "source": [
    "# Train Models for Alpha Amylase"
   ]
  },
  {
   "cell_type": "code",
   "execution_count": 1,
   "id": "4bcd8018-67bd-4e7a-bbe4-de0ec1ed6307",
   "metadata": {},
   "outputs": [
    {
     "name": "stderr",
     "output_type": "stream",
     "text": [
      "/usr/lib/python3/dist-packages/scipy/__init__.py:146: UserWarning: A NumPy version >=1.17.3 and <1.25.0 is required for this version of SciPy (detected version 1.25.2\n",
      "  warnings.warn(f\"A NumPy version >={np_minversion} and <{np_maxversion}\"\n"
     ]
    },
    {
     "name": "stdout",
     "output_type": "stream",
     "text": [
      "/home/ubuntu/DEML-Arizona/BADASS/src\n",
      "Paths added to sys.path:\n",
      "/home/ubuntu/DEML-Arizona/BADASS/src/data\n",
      "/home/ubuntu/DEML-Arizona/BADASS/src/utils\n",
      "/home/ubuntu/DEML-Arizona/BADASS/src/training\n",
      "/home/ubuntu/DEML-Arizona/BADASS/src/mld\n",
      "/home/ubuntu/DEML-Arizona/BADASS/src/mld/libdesign\n",
      "/home/ubuntu/DEML-Arizona/BADASS/src/models\n"
     ]
    }
   ],
   "source": [
    "%run setup_environment.py\n",
    "import seq2fitness_models as models\n",
    "import datasets\n",
    "import seq2fitness_traintools as traintools\n",
    "import seq2fitness_train as train\n",
    "import sequence_utils\n",
    "import torch.nn as nn\n",
    "import time"
   ]
  },
  {
   "cell_type": "code",
   "execution_count": 2,
   "id": "cba1e25f-baf9-48a3-99ad-190c291f7ce0",
   "metadata": {},
   "outputs": [
    {
     "name": "stdout",
     "output_type": "stream",
     "text": [
      "{'fitness_dp3_activity': {'loss': MSELoss(), 'weight': 2.0},\n",
      " 'fitness_stain_removal': {'loss': MSELoss(), 'weight': 1.0}}\n"
     ]
    }
   ],
   "source": [
    "criteria = {\n",
    "    'fitness_dp3_activity': {'loss': torch.nn.MSELoss(), 'weight': 2.0}, # only single mutants from NNK. Used weight of 2.0 first\n",
    "    'fitness_stain_removal': {'loss': torch.nn.MSELoss(), 'weight': 1.0} # 1-8 mutations\n",
    "}\n",
    "print(criteria)\n",
    "# Load ESM2 3B Scores\n",
    "static_score_path = \"../data/alpha_amylase_esm2_3b_scores.xlsx\"\n",
    "amylase_ESM23B_scores = models.initialize_static_esm_scores(static_score_path, verbose=False)"
   ]
  },
  {
   "cell_type": "code",
   "execution_count": 3,
   "id": "4f20ed47-47f9-484d-affe-3fedeb1eae32",
   "metadata": {},
   "outputs": [],
   "source": [
    "# Define model parameters\n",
    "model_params = {\n",
    "    'task_criteria': criteria,\n",
    "    'k1': 32, \n",
    "    'k2': 32, \n",
    "    'dropout': 0.20,\n",
    "    'quantiles': [0.01, 0.025, 0.125, 0.25, 0.375, 0.5, 0.625, 0.75, 0.875, 0.975, 0.99], # quantiles used to process embeddings\n",
    "    'task_stats': {},\n",
    "    'm1': 27, \n",
    "    'm2': 15, \n",
    "    'esm_scores_dim': 3, # total number of scores: mutant, reference and from 3B model currently\n",
    "    'ref_seq': ref_seq_amylase,\n",
    "    'static_logit': amylase_ESM23B_scores,\n",
    "    'esm_modelname': 'esm2_t33_650M_UR50D',\n",
    "    'use_rel_embeddings': True,\n",
    "    'use_rel_prob_matrices': False\n",
    "}"
   ]
  },
  {
   "cell_type": "code",
   "execution_count": 4,
   "id": "35248ce5-7100-4b02-a9c9-a80a99360314",
   "metadata": {},
   "outputs": [],
   "source": [
    "# Define training parameters\n",
    "training_params = {\n",
    "    'dataset_path': '../data/AlphaAmylase_both_merged.csv',\n",
    "    'batch_size': 800, \n",
    "    'epochs': 80, \n",
    "    'seed': 19,\n",
    "    'dropout': 0.2,\n",
    "    'lr': 1e-2,  \n",
    "    'split_ratio': 0.8,\n",
    "    'save_path': \"../trained_models\",\n",
    "    'model_filename': f\"Seq2Fitness_AAmylsase_\",\n",
    "    'weight_decay': 1.2e-3,\n",
    "    'file_name': \"Seq2Fitness_AAmylsase_\" # for storing plots\n",
    "}"
   ]
  },
  {
   "cell_type": "code",
   "execution_count": null,
   "id": "b45d71fb-b73e-472f-a051-9a9828374e67",
   "metadata": {},
   "outputs": [],
   "source": [
    "start_time = time.time()\n",
    "trainer = train.main(model_params, training_params, model_class=\"ProteinFunctionPredictor_with_probmatrix\")\n",
    "end_time = time.time()\n",
    "elapsed_time = end_time - start_time\n",
    "print(f\"Elapsed time: {elapsed_time:.2f} seconds\")"
   ]
  }
 ],
 "metadata": {
  "kernelspec": {
   "display_name": "Python 3 (ipykernel)",
   "language": "python",
   "name": "python3"
  },
  "language_info": {
   "codemirror_mode": {
    "name": "ipython",
    "version": 3
   },
   "file_extension": ".py",
   "mimetype": "text/x-python",
   "name": "python",
   "nbconvert_exporter": "python",
   "pygments_lexer": "ipython3",
   "version": "3.9.16"
  }
 },
 "nbformat": 4,
 "nbformat_minor": 5
}
