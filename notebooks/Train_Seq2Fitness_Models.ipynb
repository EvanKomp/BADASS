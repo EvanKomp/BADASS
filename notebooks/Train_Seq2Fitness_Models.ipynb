{
 "cells": [
  {
   "cell_type": "markdown",
   "id": "a392cb73-7fbb-465b-84b3-9437073b4831",
   "metadata": {},
   "source": [
    "# Train Seq2Fitness models for Alpha Amylase"
   ]
  },
  {
   "cell_type": "markdown",
   "id": "d4d452f3-38ce-430a-bf97-8fc1c0a7cc5a",
   "metadata": {},
   "source": [
    "This notebook shows how to train Seq2fitness models with a protein fitness dataset. Here we use alpha-amylase. "
   ]
  },
  {
   "cell_type": "code",
   "execution_count": null,
   "id": "4bcd8018-67bd-4e7a-bbe4-de0ec1ed6307",
   "metadata": {},
   "outputs": [],
   "source": [
    "%run setup_environment.py\n",
    "import seq2fitness_models as models\n",
    "import datasets\n",
    "import seq2fitness_traintools as traintools\n",
    "import seq2fitness_train as train\n",
    "import sequence_utils\n",
    "import torch.nn as nn\n",
    "import time"
   ]
  },
  {
   "cell_type": "code",
   "execution_count": null,
   "id": "6c72e812-f770-409c-9e7f-7fc56221dabe",
   "metadata": {},
   "outputs": [],
   "source": [
    "# Reference sequence\n",
    "ref_seq_amylase = \"\"\"LTAPSIKSGTILHAWNWSFNTLKHNMKDIHDAGYTAIQTSPINQVKEGNQGDKSMSNWYWLYQPTSYQIGNRYLGTEQEFKEMCAAAEEYGIKVIVDAVINHTTSDYAAIS\n",
    "NEVKSIPNWTHGNTPIKNWSDRWDVTQNSLSGLYDWNTQNTQVQSYLKRFLDRALNDGADGFRFDAAKHIELPDDGSYGSQFWPNITNTSAEFQYGEILQDSVSRDAAYANY\n",
    "MDVTASNYGHSIRSALKNRNLGVSNISHYAVDVSADKLVTWVESHDTYANDDEESTWMSDDDIRLGWAVIASRSGSTPLFFSRPEGGGNGVRFPGKSQIGDRGSALFEDQAI\n",
    "TAVNRFHNVMAGQPEELSNPNGNNQIFMNQRGSHGVVLANAGSSSVSINTATKLPDGRYDNKAGAGSFQVNDGKLTGTINARSVAVLYPD\"\"\".replace('\\n','')"
   ]
  },
  {
   "cell_type": "code",
   "execution_count": null,
   "id": "cba1e25f-baf9-48a3-99ad-190c291f7ce0",
   "metadata": {},
   "outputs": [],
   "source": [
    "# Criteria are labels corresponding to columns in the spreadsheet containing the dataset\n",
    "# Multi-task training is supported\n",
    "# We use task weights to correspond to the relative sizes of the number of samples per task.\n",
    "\n",
    "criteria = {\n",
    "    'fitness_dp3_activity': {'loss': torch.nn.MSELoss(), 'weight': 2.0}, # only single mutants from NNK. Used weight of 2.0 first\n",
    "    'fitness_stain_removal': {'loss': torch.nn.MSELoss(), 'weight': 1.0} # 1-8 mutations\n",
    "}\n",
    "print(criteria)\n"
   ]
  },
  {
   "cell_type": "code",
   "execution_count": null,
   "id": "02fc8ccd-b3c7-4bc3-8079-91128a2c2191",
   "metadata": {},
   "outputs": [],
   "source": [
    "# Load precomputed ESM2 3B Scores\n",
    "# You can compute ESM2-3B scores with the notebook (compute_esm2_3b_scores.ipynb)\n",
    "static_score_path = \"../data/alpha_amylase_esm2_3b_scores.xlsx\" # Precomputed scores\n",
    "amylase_ESM23B_scores = models.initialize_static_esm_scores(static_score_path, verbose=False)"
   ]
  },
  {
   "cell_type": "code",
   "execution_count": null,
   "id": "4f20ed47-47f9-484d-affe-3fedeb1eae32",
   "metadata": {},
   "outputs": [],
   "source": [
    "# Define model hyperparameters\n",
    "# These are default hyperparameters used throughout the paper\n",
    "model_params = {\n",
    "    'task_criteria': criteria,\n",
    "    'k1': 32, # Filter of 1st conv.\n",
    "    'k2': 32, # Filter of 2nd. conv.\n",
    "    'dropout': 0.20,\n",
    "    'quantiles': [0.01, 0.025, 0.125, 0.25, 0.375, 0.5, 0.625, 0.75, 0.875, 0.975, 0.99], # quantiles used to process embeddings\n",
    "    'task_stats': {},\n",
    "    'm1': 27, \n",
    "    'm2': 15, \n",
    "    'esm_scores_dim': 3, # total number of scores: mutant, wildtype, and from 3B model currently\n",
    "    'ref_seq': ref_seq_amylase,\n",
    "    'static_logit': amylase_ESM23B_scores,\n",
    "    'esm_modelname': 'esm2_t33_650M_UR50D',\n",
    "    'use_rel_embeddings': True,\n",
    "    'use_rel_prob_matrices': False\n",
    "}"
   ]
  },
  {
   "cell_type": "code",
   "execution_count": null,
   "id": "35248ce5-7100-4b02-a9c9-a80a99360314",
   "metadata": {},
   "outputs": [],
   "source": [
    "# Define training parameters\n",
    "training_params = {\n",
    "    'dataset_path': '../data/AlphaAmylase_both_merged.csv',\n",
    "    'batch_size': 800, \n",
    "    'epochs': 80, \n",
    "    'seed': 19,\n",
    "    'dropout': 0.2,\n",
    "    'lr': 1e-2,  \n",
    "    'split_ratio': 0.8,\n",
    "    'save_path': \"../trained_models\",\n",
    "    'model_filename': f\"Seq2Fitness_AAmylsase_\",\n",
    "    'weight_decay': 1.2e-3,\n",
    "    'file_name': \"Seq2Fitness_AAmylsase_\" # for storing plots\n",
    "}"
   ]
  },
  {
   "cell_type": "code",
   "execution_count": null,
   "id": "b45d71fb-b73e-472f-a051-9a9828374e67",
   "metadata": {},
   "outputs": [],
   "source": [
    "start_time = time.time()\n",
    "trainer = train.main(model_params, training_params, model_class=\"ProteinFunctionPredictor_with_probmatrix\")\n",
    "end_time = time.time()\n",
    "elapsed_time = end_time - start_time\n",
    "print(f\"Elapsed time: {elapsed_time:.2f} seconds\")"
   ]
  }
 ],
 "metadata": {
  "kernelspec": {
   "display_name": "Python 3 (ipykernel)",
   "language": "python",
   "name": "python3"
  },
  "language_info": {
   "codemirror_mode": {
    "name": "ipython",
    "version": 3
   },
   "file_extension": ".py",
   "mimetype": "text/x-python",
   "name": "python",
   "nbconvert_exporter": "python",
   "pygments_lexer": "ipython3",
   "version": "3.10.13"
  }
 },
 "nbformat": 4,
 "nbformat_minor": 5
}
